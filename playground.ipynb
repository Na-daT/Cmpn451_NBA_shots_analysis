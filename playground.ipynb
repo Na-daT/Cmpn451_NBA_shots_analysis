{
 "cells": [
  {
   "attachments": {},
   "cell_type": "markdown",
   "metadata": {},
   "source": [
    "# This is a playground for performing experiments before implementing them in the main code using pyspark for quick access"
   ]
  },
  {
   "cell_type": "code",
   "execution_count": 3,
   "metadata": {},
   "outputs": [
    {
     "name": "stdout",
     "output_type": "stream",
     "text": [
      "(210072, 16)\n"
     ]
    }
   ],
   "source": [
    "import pandas as pd\n",
    "import glob\n",
    "\n",
    "csv_path = \"./NBA shot log 16-17-regular season/Shot data/\"\n",
    "\n",
    "# read all csvs in the directory\n",
    "df = pd.concat([pd.read_csv(f) for f in glob.glob(csv_path + \"*.csv\")], ignore_index=True)\n",
    "\n",
    "# Print the number of rows and columns\n",
    "print(df.shape)"
   ]
  }
 ],
 "metadata": {
  "kernelspec": {
   "display_name": "base",
   "language": "python",
   "name": "python3"
  },
  "language_info": {
   "codemirror_mode": {
    "name": "ipython",
    "version": 3
   },
   "file_extension": ".py",
   "mimetype": "text/x-python",
   "name": "python",
   "nbconvert_exporter": "python",
   "pygments_lexer": "ipython3",
   "version": "3.9.12"
  },
  "orig_nbformat": 4
 },
 "nbformat": 4,
 "nbformat_minor": 2
}
