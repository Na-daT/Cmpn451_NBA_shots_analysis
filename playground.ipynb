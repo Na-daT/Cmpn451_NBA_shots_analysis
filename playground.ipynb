{
 "cells": [
  {
   "attachments": {},
   "cell_type": "markdown",
   "metadata": {},
   "source": [
    "# This is a playground for performing experiments before implementing them in the main code using pyspark for quick access"
   ]
  },
  {
   "cell_type": "code",
   "execution_count": 233,
   "metadata": {},
   "outputs": [
    {
     "name": "stdout",
     "output_type": "stream",
     "text": [
      "(210072, 16)\n"
     ]
    }
   ],
   "source": [
    "import pandas as pd\n",
    "import glob\n",
    "\n",
    "csv_path = \"./NBA shot log 16-17-regular season/Shot data/\"\n",
    "\n",
    "# read all csvs in the directory\n",
    "df = pd.concat([pd.read_csv(f) for f in glob.glob(csv_path + \"*.csv\")], ignore_index=True)\n",
    "\n",
    "# Print the number of rows and columns\n",
    "print(df.shape)"
   ]
  },
  {
   "cell_type": "code",
   "execution_count": 234,
   "metadata": {},
   "outputs": [
    {
     "name": "stdout",
     "output_type": "stream",
     "text": [
      "Index(['#Date/Time of Update: 2017-05-09 4:34:01 PM', '#Player ID',\n",
      "       '#LastName', '#FirstName', '#Jersey Num', '#Position', '#Height',\n",
      "       '#Weight', '#Birth Date', '#Age', '#Birth City', '#Birth Country',\n",
      "       '#Rookie', '#Team ID', '#Team Abbr', '#Team City', '#Team Name',\n",
      "       '#GamesPlayed', '#Fg2PtAtt', '#Fg2PtMade', '#Fg3PtAtt', '#Fg3PtMade',\n",
      "       '#FtAtt', '#FtMade'],\n",
      "      dtype='object')\n",
      "Index(['#LastName', '#FirstName', '#Height', '#Weight', '#Birth Date', '#Age',\n",
      "       '#Rookie', '#GamesPlayed', '#Fg2PtAtt', '#Fg2PtMade', '#Fg3PtAtt',\n",
      "       '#Fg3PtMade', '#FtAtt', '#FtMade'],\n",
      "      dtype='object')\n",
      "Index(['#Height', '#Weight', '#Birth Date', '#Age', '#Rookie', '#GamesPlayed',\n",
      "       '#Fg2PtAtt', '#Fg2PtMade', '#Fg3PtAtt', '#Fg3PtMade', '#FtAtt',\n",
      "       '#FtMade', 'shoot player'],\n",
      "      dtype='object')\n",
      "Index(['self previous shot', 'player position', 'home game', 'location x',\n",
      "       'opponent previous shot', 'home team', 'shot type', 'points',\n",
      "       'away team', 'location y', 'time', 'date', 'shoot player',\n",
      "       'time from last shot', 'quarter', 'current shot outcome', '#Height',\n",
      "       '#Weight', '#Birth Date', '#Age', '#Rookie', '#GamesPlayed',\n",
      "       '#Fg2PtAtt', '#Fg2PtMade', '#Fg3PtAtt', '#Fg3PtMade', '#FtAtt',\n",
      "       '#FtMade'],\n",
      "      dtype='object')\n"
     ]
    }
   ],
   "source": [
    "# read player data\n",
    "df_player = pd.read_csv(\"./NBA shot log 16-17-regular season/Player Regular 16-17 Stats.csv\")\n",
    "\n",
    "\n",
    "\n",
    "print(df_player.columns)\n",
    "# remove the columns that are not needed [#Date/Time of Update: 2017-05-09 4:34:01 PM, #Player ID, #Jersey Num, #Birth Date, #Birth City, #Birth Couuntry, #Team ID\n",
    "#                                         #Team Abbr, #Team City, #Team Name]\n",
    "df_player = df_player.drop(['#Date/Time of Update: 2017-05-09 4:34:01 PM', '#Player ID', '#Jersey Num', '#Birth City', '#Birth Country', '#Team ID', '#Team Abbr', '#Team City', '#Team Name', '#Position'], axis=1)\n",
    "print(df_player.columns)\n",
    "\n",
    "# combine First Name and Last Name to create a new column called Player Name\n",
    "df_player['shoot player'] = df_player['#FirstName'] + \" \" + df_player['#LastName']\n",
    "df_player = df_player.drop(['#FirstName', '#LastName'], axis=1)\n",
    "print(df_player.columns)\n",
    "\n",
    "# connect df_player and df[0]\n",
    "df_merged = pd.merge(df, df_player, on='shoot player', how='inner')\n",
    "df_merged.to_csv(\"output/Standard/Single File/merged.csv\", index=False)\n",
    "print(df_merged.columns)"
   ]
  },
  {
   "cell_type": "code",
   "execution_count": 235,
   "metadata": {},
   "outputs": [
    {
     "name": "stderr",
     "output_type": "stream",
     "text": [
      "C:\\Users\\Muhab\\AppData\\Local\\Temp\\ipykernel_1984\\1712087339.py:14: SettingWithCopyWarning: \n",
      "A value is trying to be set on a copy of a slice from a DataFrame\n",
      "\n",
      "See the caveats in the documentation: https://pandas.pydata.org/pandas-docs/stable/user_guide/indexing.html#returning-a-view-versus-a-copy\n",
      "  df_merged_test['accuracy'][df_merged_test['points'] == 0] = df_merged_test['#Fg2PtMade'] / df_merged_test['#Fg2PtAtt']\n",
      "C:\\Users\\Muhab\\AppData\\Local\\Temp\\ipykernel_1984\\1712087339.py:15: SettingWithCopyWarning: \n",
      "A value is trying to be set on a copy of a slice from a DataFrame\n",
      "\n",
      "See the caveats in the documentation: https://pandas.pydata.org/pandas-docs/stable/user_guide/indexing.html#returning-a-view-versus-a-copy\n",
      "  df_merged_test['accuracy'][df_merged_test['points'] == 1] = df_merged_test['#Fg3PtMade'] / df_merged_test['#Fg3PtAtt']\n"
     ]
    }
   ],
   "source": [
    "df_merged_test = df_merged\n",
    "# print unique values in self previous shot\n",
    "columns_to_print = ['self previous shot', 'player position', 'home game', 'opponent previous shot', 'home team', 'points', 'time from last shot', 'quarter', 'current shot outcome', '#Position',\n",
    "       '#Height', '#Weight', '#Age', '#Rookie', '#GamesPlayed', '#Fg2PtAtt',\n",
    "       '#Fg2PtMade', '#Fg3PtAtt', '#Fg3PtMade', '#FtAtt', '#FtMade']\n",
    "\n",
    "\n",
    "\n",
    "# Map poitns from [2, 3] to [0, 1]\n",
    "df_merged_test['points'] = df_merged_test['points'].map({2: 0, 3: 1})\n",
    "\n",
    "# for players with points = 2 add an extra column called accuracy for 2 pointers adn for players with points = 3 add an extra column called accuracy for 3 pointers\n",
    "df_merged_test['accuracy'] = 0\n",
    "df_merged_test['accuracy'][df_merged_test['points'] == 0] = df_merged_test['#Fg2PtMade'] / df_merged_test['#Fg2PtAtt']\n",
    "df_merged_test['accuracy'][df_merged_test['points'] == 1] = df_merged_test['#Fg3PtMade'] / df_merged_test['#Fg3PtAtt']\n",
    "\n",
    "# Drop players with 0 attempts in Fg2PtAtt, Fg3PtAtt, FtAtt\n",
    "df_merged_test = df_merged_test[df_merged_test['#Fg2PtAtt'] != 0]\n",
    "df_merged_test = df_merged_test[df_merged_test['#Fg3PtAtt'] != 0]\n",
    "df_merged_test = df_merged_test[df_merged_test['#FtAtt'] != 0]\n",
    "\n",
    "# Drop Fg2PtAtt, Fg2PtMade, Fg3PtAtt, Fg3PtMade, FtAtt, FtMade\n",
    "df_merged_test = df_merged_test.drop(['#Fg2PtAtt', '#Fg2PtMade', '#Fg3PtAtt', '#Fg3PtMade', '#FtAtt', '#FtMade'], axis=1)\n",
    "# Drop irrelevant columns\n",
    "df_merged_test = df_merged_test.drop(['date','#Birth Date', 'away team', 'home team', 'shoot player'], axis=1)\n",
    "\n",
    "# Convert height from feet-inches to inches\n",
    "# height map\n",
    "height_map = {'5\\'4\\\"': 64, '5\\'9\\\"': 69, '5\\'10\\\"': 70, '5\\'11\\\"': 71,\n",
    "       '6\\'0\\\"': 72, '6\\'1\\\"': 73, '6\\'2\\\"': 74, '6\\'3\\\"': 75, '6\\'4\\\"': 76, '6\\'5\\\"': 77, '6\\'6\\\"': 78, '6\\'7\\\"': 79, '6\\'8\\\"': 80,\n",
    "       '6\\'9\\\"': 81, '6\\'10\\\"': 82, '6\\'11\\\"': 83, '7\\'0\\\"': 84, '7\\'1\\\"': 85, '7\\'2\\\"': 86, '7\\'3\\\"': 87}\n",
    "# convert height to inches using height_map\n",
    "df_merged_test['#Height'] = df_merged_test['#Height'].map(height_map)\n",
    "# replace height nans with the mean\n",
    "df_merged_test['#Height'] = df_merged_test['#Height'].fillna(round(df_merged_test['#Height'].mean()))\n",
    "# Normalize height subtracting the min and dividing by the range\n",
    "df_merged_test['#Height'] = (df_merged_test['#Height'] - df_merged_test['#Height'].min()) / (df_merged_test['#Height'].max() - df_merged_test['#Height'].min())\n",
    "\n",
    "# Fill age nans with the mean\n",
    "df_merged_test['#Age'] = df_merged_test['#Age'].fillna(round(df_merged_test['#Age'].mean()))\n",
    "# Normalize age using z-score\n",
    "df_merged_test['#Age'] = (df_merged_test['#Age'] - df_merged_test['#Age'].mean()) / df_merged_test['#Age'].std()\n",
    "# Fill weight nans with the mean\n",
    "df_merged_test['#Weight'] = df_merged_test['#Weight'].fillna(round(df_merged_test['#Weight'].mean()))\n",
    "# Normalize weight using z-score\n",
    "df_merged_test['#Weight'] = (df_merged_test['#Weight'] - df_merged_test['#Weight'].mean()) / df_merged_test['#Weight'].std()\n",
    "\n",
    "# Convert rookie to 0 and 1\n",
    "df_merged_test['#Rookie'] = df_merged_test['#Rookie'].map({'N': 0, 'Y': 1})\n",
    "\n",
    "# drop nans from rows with location x as null\n",
    "# reason, very few they represent less than 0.1% of our dataset and have a null y location as well\n",
    "df_merged_test = df_merged_test.dropna(subset=['location x']) \n",
    "# change the columns with location x > 470 to 940 - location x\n",
    "df_merged_test.loc[df_merged_test['location x'] > 470, 'location x'] = 940 - df_merged_test['location x']\n",
    "\n",
    "# normalize location x and location y\n",
    "df_merged_test['location x'] = df_merged_test['location x'] / 470 # half court width\n",
    "df_merged_test['location y'] = df_merged_test['location y'] / 500 # court length\n",
    "\n",
    "# get time from time table in the form(MM:SS) and convert to seconds and get quarter and multiply by 720\n",
    "df_merged_test['time'] = df_merged_test['time'].str.split(':').apply(lambda x: int(x[0]) * 60 + int(x[1]))\n",
    "df_merged_test['time'] = df_merged_test['time'] + (df_merged_test['quarter'] - 1) * 720\n",
    "\n",
    "# divide time by 2880 to normalize it\n",
    "df_merged_test['time'] = df_merged_test['time'] / 2880\n",
    "\n",
    "# drop quarter column\n",
    "#df_merged_test = df_merged_test.drop(['quarter'], axis=1)\n",
    "\n",
    "\n",
    "# Map player position from ['SF' 'C' 'SG' 'PG' 'PF' 'G' 'F'] to [0, 1, 2, 3, 4 ,5, 6]\n",
    "df_merged_test['player position'] = df_merged_test['player position'].map({'SF': 0, 'C': 1, 'SG': 2, 'PG': 3, 'PF': 4, 'G': 5, 'F': 6})\n",
    "\n",
    "# Drop nulls in self previous shot and opponent previous shot\n",
    "df_merged_test = df_merged_test.dropna(subset=['self previous shot', 'opponent previous shot'])\n",
    "\n",
    "# Map current shot outcome from ['MISSED' 'BLOCKED' 'SCORED'] to [0, 0, 1]\n",
    "df_merged_test['self previous shot'] = df_merged_test['self previous shot'].map({'MISSED': 0, 'BLOCKED': 0, 'SCORED': 1})\n",
    "df_merged_test['opponent previous shot'] = df_merged_test['opponent previous shot'].map({'MISSED': 0, 'BLOCKED': 0, 'SCORED': 1})\n",
    "df_merged_test['current shot outcome'] = df_merged_test['current shot outcome'].map({'MISSED': 0, 'BLOCKED': 0, 'SCORED': 1})\n",
    "\n",
    "df_merged_test.to_csv(\"output/Standard/Single File/merged_test.csv\", index=False)"
   ]
  },
  {
   "cell_type": "code",
   "execution_count": 236,
   "metadata": {},
   "outputs": [
    {
     "name": "stdout",
     "output_type": "stream",
     "text": [
      "self previous shot: [0 1]\n",
      "opponent previous shot: [1 0]\n",
      "Index(['self previous shot', 'player position', 'home game', 'location x',\n",
      "       'opponent previous shot', 'shot type', 'points', 'location y', 'time',\n",
      "       'time from last shot', 'quarter', 'current shot outcome', '#Height',\n",
      "       '#Weight', '#Age', '#Rookie', '#GamesPlayed', 'accuracy'],\n",
      "      dtype='object')\n",
      "current shot outcome      1.000000\n",
      "accuracy                  0.172877\n",
      "#Weight                   0.047568\n",
      "#Height                   0.045343\n",
      "#GamesPlayed              0.019273\n",
      "location y                0.003124\n",
      "#Age                     -0.004877\n",
      "self previous shot       -0.008196\n",
      "opponent previous shot   -0.014190\n",
      "player position          -0.015410\n",
      "quarter                  -0.016007\n",
      "time                     -0.019987\n",
      "#Rookie                  -0.020353\n",
      "time from last shot      -0.040114\n",
      "points                   -0.135422\n",
      "location x               -0.159820\n",
      "Name: current shot outcome, dtype: float64\n"
     ]
    }
   ],
   "source": [
    "for column in ['self previous shot', 'opponent previous shot']:\n",
    "    print(column + \":\", df_merged_test[column].unique())\n",
    "\n",
    "# print nulls per column in df_player\n",
    "df_merged_test['time from last shot'] = df_merged_test['time from last shot'].fillna(round(df_merged_test['time from last shot'].mean()))\n",
    "\n",
    "\n",
    "# print first 10 rows with time from last shot as nan\n",
    "#print(df[df['time from last shot'].isnull()].head(10))\n",
    "corr = df_merged_test.corr()\n",
    "print(df_merged_test.columns)\n",
    "# print correlation with \"curent shot outcome\"\n",
    "print(corr['current shot outcome'].sort_values(ascending=False))"
   ]
  },
  {
   "cell_type": "code",
   "execution_count": 237,
   "metadata": {},
   "outputs": [],
   "source": [
    "# train a model to predict current shot outcome"
   ]
  }
 ],
 "metadata": {
  "kernelspec": {
   "display_name": "Python 3.11.2 64-bit",
   "language": "python",
   "name": "python3"
  },
  "language_info": {
   "codemirror_mode": {
    "name": "ipython",
    "version": 3
   },
   "file_extension": ".py",
   "mimetype": "text/x-python",
   "name": "python",
   "nbconvert_exporter": "python",
   "pygments_lexer": "ipython3",
   "version": "3.11.2"
  },
  "orig_nbformat": 4,
  "vscode": {
   "interpreter": {
    "hash": "1310c6520792fcb7b0d25c1401245ed3fb6ffb6ace4a4c81d480b3badb3c3aa5"
   }
  }
 },
 "nbformat": 4,
 "nbformat_minor": 2
}
