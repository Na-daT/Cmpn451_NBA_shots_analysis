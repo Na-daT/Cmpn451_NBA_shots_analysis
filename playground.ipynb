{
 "cells": [
  {
   "attachments": {},
   "cell_type": "markdown",
   "metadata": {},
   "source": [
    "# This is a playground for performing experiments before implementing them in the main code using pyspark for quick access"
   ]
  },
  {
   "cell_type": "code",
   "execution_count": 59,
   "metadata": {},
   "outputs": [
    {
     "name": "stdout",
     "output_type": "stream",
     "text": [
      "(210072, 16)\n"
     ]
    }
   ],
   "source": [
    "import pandas as pd\n",
    "import glob\n",
    "\n",
    "csv_path = \"./NBA shot log 16-17-regular season/Shot data/\"\n",
    "\n",
    "# read all csvs in the directory\n",
    "df = pd.concat([pd.read_csv(f) for f in glob.glob(csv_path + \"*.csv\")], ignore_index=True)\n",
    "\n",
    "# Print the number of rows and columns\n",
    "print(df.shape)"
   ]
  },
  {
   "cell_type": "code",
   "execution_count": 62,
   "metadata": {},
   "outputs": [
    {
     "name": "stdout",
     "output_type": "stream",
     "text": [
      "Index(['#Date/Time of Update: 2017-05-09 4:34:01 PM', '#Player ID',\n",
      "       '#LastName', '#FirstName', '#Jersey Num', '#Position', '#Height',\n",
      "       '#Weight', '#Birth Date', '#Age', '#Birth City', '#Birth Country',\n",
      "       '#Rookie', '#Team ID', '#Team Abbr', '#Team City', '#Team Name',\n",
      "       '#GamesPlayed', '#Fg2PtAtt', '#Fg2PtMade', '#Fg3PtAtt', '#Fg3PtMade',\n",
      "       '#FtAtt', '#FtMade'],\n",
      "      dtype='object')\n",
      "Index(['#LastName', '#FirstName', '#Position', '#Height', '#Weight', '#Age',\n",
      "       '#Rookie', '#GamesPlayed', '#Fg2PtAtt', '#Fg2PtMade', '#Fg3PtAtt',\n",
      "       '#Fg3PtMade', '#FtAtt', '#FtMade'],\n",
      "      dtype='object')\n",
      "Index(['#Position', '#Height', '#Weight', '#Age', '#Rookie', '#GamesPlayed',\n",
      "       '#Fg2PtAtt', '#Fg2PtMade', '#Fg3PtAtt', '#Fg3PtMade', '#FtAtt',\n",
      "       '#FtMade', 'shoot player'],\n",
      "      dtype='object')\n",
      "Index(['self previous shot', 'player position', 'home game', 'location x',\n",
      "       'opponent previous shot', 'home team', 'shot type', 'points',\n",
      "       'away team', 'location y', 'time', 'date', 'shoot player',\n",
      "       'time from last shot', 'quarter', 'current shot outcome', '#Position',\n",
      "       '#Height', '#Weight', '#Age', '#Rookie', '#GamesPlayed', '#Fg2PtAtt',\n",
      "       '#Fg2PtMade', '#Fg3PtAtt', '#Fg3PtMade', '#FtAtt', '#FtMade'],\n",
      "      dtype='object')\n"
     ]
    }
   ],
   "source": [
    "# read player data\n",
    "df_player = pd.read_csv(\"./NBA shot log 16-17-regular season/Player Regular 16-17 Stats.csv\")\n",
    "\n",
    "print(df_player.columns)\n",
    "# remove the columns that are not needed [#Date/Time of Update: 2017-05-09 4:34:01 PM, #Player ID, #Jersey Num, #Birth Date, #Birth City, #Birth Couuntry, #Team ID\n",
    "#                                         #Team Abbr, #Team City, #Team Name]\n",
    "df_player = df_player.drop(['#Date/Time of Update: 2017-05-09 4:34:01 PM', '#Player ID', '#Jersey Num', '#Birth City', '#Birth Country', '#Team ID', '#Team Abbr', '#Team City', '#Team Name'], axis=1)\n",
    "print(df_player.columns)\n",
    "\n",
    "# combine First Name and Last Name to create a new column called Player Name\n",
    "df_player['shoot player'] = df_player['#FirstName'] + \" \" + df_player['#LastName']\n",
    "df_player = df_player.drop(['#FirstName', '#LastName'], axis=1)\n",
    "print(df_player.columns)\n",
    "\n",
    "# connect df_player and df[0]\n",
    "df_merged = pd.merge(df, df_player, on='shoot player', how='inner')\n",
    "df_merged.to_csv(\"output/Standard/Single File/merged.csv\", index=False)\n",
    "print(df_merged.columns)"
   ]
  },
  {
   "cell_type": "code",
   "execution_count": 82,
   "metadata": {},
   "outputs": [
    {
     "name": "stdout",
     "output_type": "stream",
     "text": [
      "self previous shot 2460\n",
      "location x 397\n",
      "opponent previous shot 1610\n",
      "location y 397\n",
      "time from last shot 10000\n",
      "#Height 394\n",
      "#Weight 394\n",
      "#Age 814\n"
     ]
    }
   ],
   "source": [
    "df_merged_test = df_merged\n",
    "# print unique values in self previous shot\n",
    "columns_to_print = ['self previous shot', 'player position', 'home game', 'opponent previous shot', 'home team', 'points', 'time from last shot', 'quarter', 'current shot outcome', '#Position',\n",
    "       '#Height', '#Weight', '#Age', '#Rookie', '#GamesPlayed', '#Fg2PtAtt',\n",
    "       '#Fg2PtMade', '#Fg3PtAtt', '#Fg3PtMade', '#FtAtt', '#FtMade']\n",
    "\n",
    "# get columns that contain nans and their counts\n",
    "for column in df_merged_test.columns:\n",
    "       if df_merged_test[column].isnull().values.any():\n",
    "              print(column, df_merged_test[column].isnull().sum())\n",
    "\n",
    "\n",
    "# print(df_merged_test.shape)\n",
    "# remove nans\n",
    "# df_merged_test = df_merged_test.dropna()\n",
    "# print(df_merged_test.shape)\n",
    "\n",
    "# for column in columns_to_print:\n",
    "#     print(column + \":\", df_merged_test[column].unique())\n"
   ]
  }
 ],
 "metadata": {
  "kernelspec": {
   "display_name": "Python 3.11.2 64-bit",
   "language": "python",
   "name": "python3"
  },
  "language_info": {
   "codemirror_mode": {
    "name": "ipython",
    "version": 3
   },
   "file_extension": ".py",
   "mimetype": "text/x-python",
   "name": "python",
   "nbconvert_exporter": "python",
   "pygments_lexer": "ipython3",
   "version": "3.11.2"
  },
  "orig_nbformat": 4,
  "vscode": {
   "interpreter": {
    "hash": "1310c6520792fcb7b0d25c1401245ed3fb6ffb6ace4a4c81d480b3badb3c3aa5"
   }
  }
 },
 "nbformat": 4,
 "nbformat_minor": 2
}
